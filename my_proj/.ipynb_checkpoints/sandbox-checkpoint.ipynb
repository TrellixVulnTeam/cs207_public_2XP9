{
 "cells": [
  {
   "cell_type": "code",
   "execution_count": 108,
   "metadata": {},
   "outputs": [],
   "source": [
    "import numpy as np\n",
    "\n",
    "class Complex():\n",
    "    def __init__(self, a, b):\n",
    "        self.real = a\n",
    "        self.imag = b\n",
    "        self.mag = self._mag()\n",
    "        self.ang = self._ang()\n",
    "        \n",
    "    def _mag(self):\n",
    "        mag = np.sqrt(self.real**2 + self.imag**2)\n",
    "        return mag\n",
    "    \n",
    "    def _ang(self):\n",
    "        ang = np.arctan2(self.imag, self.real)\n",
    "        return ang\n",
    "    \n",
    "    def __sub__(self, other):\n",
    "        try:\n",
    "            real = self.real - other.real\n",
    "            imag = self.imag - other.imag\n",
    "        \n",
    "        except AttributeError:\n",
    "            real = self.real - other\n",
    "            imag = self.imag \n",
    "        \n",
    "        z = Complex(real, imag)\n",
    "        \n",
    "        return z\n",
    "    \n",
    "    def __rsub__(other, self):\n",
    "        try:\n",
    "            real = self.real - other.real\n",
    "            imag = self.imag - other.imag\n",
    "        \n",
    "        except AttributeError:\n",
    "            real = self.real - other\n",
    "            imag = self.imag \n",
    "        \n",
    "        z = Complex(real, imag)\n",
    "        \n",
    "        return z\n",
    "    \n",
    "    def conj(self):\n",
    "        real = self.real\n",
    "        imag = -self.imag\n",
    "        z = Complex(real, imag)\n",
    "        return z\n",
    "        \n",
    "    def __repr__(self):                                                         \n",
    "        if self.imag >= 0:                                                  \n",
    "            s = f'{self.real} + {self.imag}i'                                   \n",
    "        else:                                                                   \n",
    "            s = f'{self.real} - {np.abs(self.imag)}i'                               \n",
    "        return s"
   ]
  },
  {
   "cell_type": "code",
   "execution_count": 109,
   "metadata": {},
   "outputs": [
    {
     "data": {
      "text/plain": [
       "1 - 2i"
      ]
     },
     "execution_count": 109,
     "metadata": {},
     "output_type": "execute_result"
    }
   ],
   "source": [
    "z = Complex(1, 2)\n",
    "2 - z"
   ]
  }
 ],
 "metadata": {
  "kernelspec": {
   "display_name": "Python 3",
   "language": "python",
   "name": "python3"
  },
  "language_info": {
   "codemirror_mode": {
    "name": "ipython",
    "version": 3
   },
   "file_extension": ".py",
   "mimetype": "text/x-python",
   "name": "python",
   "nbconvert_exporter": "python",
   "pygments_lexer": "ipython3",
   "version": "3.6.5"
  },
  "toc": {
   "colors": {
    "hover_highlight": "#DAA520",
    "navigate_num": "#fc151b",
    "navigate_text": "#92a2be",
    "running_highlight": "#FF0000",
    "selected_highlight": "#FFD700",
    "sidebar_border": "#EEEEEE",
    "wrapper_background": "#FFFFFF"
   },
   "moveMenuLeft": true,
   "nav_menu": {
    "height": "0px",
    "width": "250px"
   },
   "navigate_menu": true,
   "number_sections": false,
   "sideBar": true,
   "threshold": 4,
   "toc_cell": false,
   "toc_section_display": "block",
   "toc_window_display": false,
   "widenNotebook": false
  }
 },
 "nbformat": 4,
 "nbformat_minor": 2
}
